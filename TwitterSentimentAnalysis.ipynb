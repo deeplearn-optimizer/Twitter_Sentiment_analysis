{
 "cells": [
  {
   "cell_type": "markdown",
   "id": "2170696e",
   "metadata": {},
   "source": [
    "### Twitter sentiment analysis\n",
    "\n",
    "### using simple liner models"
   ]
  },
  {
   "cell_type": "code",
   "execution_count": 11,
   "id": "533dd8e2",
   "metadata": {},
   "outputs": [],
   "source": [
    "import nltk\n",
    "import math\n",
    "from os import getcwd\n",
    "import pandas as pd\n",
    "import re\n",
    "import string\n",
    "from nltk.corpus import twitter_samples\n",
    "import matplotlib.pyplot as plt\n",
    "import numpy as np\n",
    "from nltk.corpus import stopwords\n",
    "from nltk.stem import PorterStemmer\n",
    "from nltk.tokenize import TweetTokenizer\n"
   ]
  },
  {
   "cell_type": "markdown",
   "id": "526d33a9",
   "metadata": {},
   "source": [
    "## Preprocess function, i have shown how i made this function in my nltk_quick start repo"
   ]
  },
  {
   "cell_type": "code",
   "execution_count": 3,
   "id": "49df87c1",
   "metadata": {},
   "outputs": [],
   "source": [
    "def process_tweet(tweet):\n",
    "    stemmer = PorterStemmer()\n",
    "    stopwords_english = stopwords.words('english')\n",
    "    tweet = re.sub(r'\\$\\w*', '', tweet)\n",
    "    tweet = re.sub(r'^RT[\\s]+', '', tweet)\n",
    "    tweet = re.sub(r'https?://[^\\s\\n\\r]+', '', tweet)\n",
    "    tweet = re.sub(r'#', '', tweet)\n",
    "    # tokenize tweets\n",
    "    tokenizer = TweetTokenizer(preserve_case=False, strip_handles=True,\n",
    "                               reduce_len=True)\n",
    "    tweet_tokens = tokenizer.tokenize(tweet)\n",
    "\n",
    "    tweets_clean = []\n",
    "    for word in tweet_tokens:\n",
    "        if (word not in stopwords_english and  # remove stopwords\n",
    "                word not in string.punctuation):  # remove punctuation\n",
    "            # tweets_clean.append(word)\n",
    "            stem_word = stemmer.stem(word)  # stemming word\n",
    "            tweets_clean.append(stem_word)\n",
    "\n",
    "    return tweets_clean"
   ]
  },
  {
   "cell_type": "markdown",
   "id": "ad7dbeef",
   "metadata": {},
   "source": [
    "## will be using bag of frequency approach to design our features"
   ]
  },
  {
   "cell_type": "code",
   "execution_count": 2,
   "id": "80357c23",
   "metadata": {},
   "outputs": [],
   "source": [
    "def build_freqs(tweets, yslist):\n",
    "    freqs = {}\n",
    "    for y, tweet in zip(yslist, tweets):\n",
    "        for word in process_tweet(tweet):\n",
    "            pair = (word, y)\n",
    "            if pair in freqs:\n",
    "                freqs[pair] += 1\n",
    "            else:\n",
    "                freqs[pair] = 1\n",
    "\n",
    "    return freqs"
   ]
  },
  {
   "cell_type": "markdown",
   "id": "26383583",
   "metadata": {},
   "source": [
    "## Designing features\n",
    "1) bias\n",
    "2) positive words frequency count\n",
    "3) negative words frequency count"
   ]
  },
  {
   "cell_type": "code",
   "execution_count": 10,
   "id": "186d9b49",
   "metadata": {},
   "outputs": [
    {
     "name": "stdout",
     "output_type": "stream",
     "text": [
      "Number of tweets in train x 8000\n"
     ]
    }
   ],
   "source": [
    "positive_samples = twitter_samples.strings(\"positive_tweets.json\")\n",
    "negative_samples = twitter_samples.strings(\"negative_tweets.json\")\n",
    "tweets = positive_samples + negative_samples\n",
    "train_pos = positive_samples[:4000]\n",
    "train_neg = negative_samples[:4000]\n",
    "test_pos = positive_samples[4000:]\n",
    "test_neg = negative_samples[4000:]\n",
    "train_x = train_pos + train_neg\n",
    "test_x = test_pos + test_neg\n",
    "train_y = [1] * len(train_pos)  + [0] * len(train_neg)\n",
    "test_y = [1] * len(test_pos)  + [0] * len(test_neg)"
   ]
  },
  {
   "cell_type": "code",
   "execution_count": 40,
   "id": "0d4fe077",
   "metadata": {},
   "outputs": [],
   "source": [
    "freqs = build_freqs(train_x, train_y)\n",
    "def sigmoid(z): \n",
    "    h = 1/(1 + np.exp(-(z)))\n",
    "    return h\n",
    "def gradientDescent(x, y, theta, alpha, num_iters):\n",
    "    m = x.shape[0]\n",
    "    for i in range(0, num_iters):\n",
    "        z = np.dot(x, theta)\n",
    "        h = sigmoid(z)\n",
    "        J = (np.sum(-1*((y*np.log(h)) + ((1 - y)*np.log(1-h)))))/m\n",
    "        theta -= (alpha/m) * np.dot(np.transpose(x), (h-y))\n",
    "    J = float(J)\n",
    "    return J, theta"
   ]
  },
  {
   "cell_type": "code",
   "execution_count": 25,
   "id": "b2d954b9",
   "metadata": {},
   "outputs": [],
   "source": [
    "def extract_features(tweet, freqs, process_tweet=process_tweet):\n",
    "    word_l = process_tweet(tweet)\n",
    "    x = np.zeros((1, 3)) \n",
    "    x[0,0] = 1 \n",
    "    for word in word_l:\n",
    "        x[0,1] += freqs[(word, 1.0)] if (word, 1.0) in freqs else 0\n",
    "        x[0,2] += freqs[(word, 0.0)] if (word, 0.0) in freqs else 0\n",
    "    return x"
   ]
  },
  {
   "cell_type": "code",
   "execution_count": 41,
   "id": "f916d3b5",
   "metadata": {},
   "outputs": [
    {
     "name": "stdout",
     "output_type": "stream",
     "text": [
      "The cost after training is 0.22521397.\n",
      "The resulting vector of weights is [6e-08, 0.0005382, -0.0005583]\n"
     ]
    }
   ],
   "source": [
    "train_y = np.reshape(np.array(train_y),(-1,1))\n",
    "test_y = np.reshape(np.array(test_y),(-1,1))\n",
    "X = np.zeros((len(train_x), 3))\n",
    "for i in range(len(train_x)):\n",
    "    X[i, :]= extract_features(train_x[i], freqs)\n",
    "Y = train_y\n",
    "J, theta = gradientDescent(X, Y, np.zeros((3, 1)), 1e-9, 1500)\n",
    "print(f\"The cost after training is {J:.8f}.\")\n",
    "print(f\"The resulting vector of weights is {[round(t, 8) for t in np.squeeze(theta)]}\")"
   ]
  },
  {
   "cell_type": "code",
   "execution_count": 45,
   "id": "2e4c92ee",
   "metadata": {},
   "outputs": [],
   "source": [
    "def predict_tweet(tweet, freqs, theta):\n",
    "    x = extract_features(tweet, freqs)\n",
    "    y_pred = sigmoid(np.dot(x, theta))\n",
    "    return y_pred"
   ]
  },
  {
   "cell_type": "code",
   "execution_count": 46,
   "id": "fbdc0c1b",
   "metadata": {},
   "outputs": [
    {
     "data": {
      "text/plain": [
       "array([[0.83110794]])"
      ]
     },
     "execution_count": 46,
     "metadata": {},
     "output_type": "execute_result"
    }
   ],
   "source": [
    "my_tweet = 'I am learning :)'\n",
    "predict_tweet(my_tweet, freqs, theta)"
   ]
  },
  {
   "cell_type": "code",
   "execution_count": 47,
   "id": "96705e82",
   "metadata": {},
   "outputs": [],
   "source": [
    "def test_logistic_regression(test_x, test_y, freqs, theta, predict_tweet=predict_tweet):\n",
    "    y_hat = []\n",
    "    for tweet in test_x:\n",
    "        y_pred = predict_tweet(tweet, freqs, theta)\n",
    "        if y_pred > 0.5:\n",
    "            y_hat.append(1.0)\n",
    "        else:\n",
    "            y_hat.append(0.0)\n",
    "    accuracy = np.sum(np.reshape(np.array(y_hat),(-1,1)) == test_y)/len(test_x)    \n",
    "    return accuracy"
   ]
  },
  {
   "cell_type": "code",
   "execution_count": 51,
   "id": "e485e415",
   "metadata": {},
   "outputs": [
    {
     "name": "stdout",
     "output_type": "stream",
     "text": [
      "test set accuracy : 0.995\n"
     ]
    }
   ],
   "source": [
    "acc = test_logistic_regression(test_x, test_y,freqs, theta)\n",
    "print(\"test set accuracy : \"+ str(acc))"
   ]
  }
 ],
 "metadata": {
  "kernelspec": {
   "display_name": "Python 3",
   "language": "python",
   "name": "python3"
  },
  "language_info": {
   "codemirror_mode": {
    "name": "ipython",
    "version": 3
   },
   "file_extension": ".py",
   "mimetype": "text/x-python",
   "name": "python",
   "nbconvert_exporter": "python",
   "pygments_lexer": "ipython3",
   "version": "3.6.9"
  }
 },
 "nbformat": 4,
 "nbformat_minor": 5
}
